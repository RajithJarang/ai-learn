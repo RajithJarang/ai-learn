{
 "cells": [
  {
   "cell_type": "code",
   "execution_count": 1,
   "metadata": {},
   "outputs": [],
   "source": [
    "import torch ## torch let's us create tensors and also provides helper functions\n",
    "import torch.nn as nn ## torch.nn gives us nn.module() and nn.Linear()\n",
    "import torch.nn.functional as F # This gives us the softmax()\n",
    "import os\n",
    "os.environ['PYTORCH_CUDA_ALLOC_CONF'] = 'expandable_segments:True'\n"
   ]
  },
  {
   "cell_type": "code",
   "execution_count": 2,
   "metadata": {},
   "outputs": [],
   "source": [
    "class SelfAttention(nn.Module):\n",
    "\n",
    "    def __init__(self, dm=10,row_dim=0, col_dim=1):\n",
    "        super().__init__()\n",
    "\n",
    "        self.WQ = nn.Linear(in_features=dm, out_features=dm, bias=False)\n",
    "        self.WK = nn.Linear(in_features=dm, out_features=dm, bias=False)\n",
    "        self.WV = nn.Linear(in_features=dm, out_features=dm, bias=False)\n",
    "\n",
    "\n",
    "        self.row_dim = row_dim\n",
    "        self.col_dim = col_dim\n",
    "    \n",
    "    def forward(self, encoding):\n",
    "\n",
    "        Q = self.WQ(encoding)\n",
    "        K = self.WK(encoding)\n",
    "        V = self.WV(encoding)\n",
    "\n",
    "\n",
    "        similarity = Q.matmul(K.transpose(dim0=self.row_dim, dim1=self.col_dim))/torch.tensor(K.size(self.col_dim)**0.5)\n",
    "\n",
    "        similarity = F.softmax(similarity, dim=self.col_dim)\n",
    "        \n",
    "        attention = similarity.matmul(V)\n",
    "        return attention\n",
    "\n",
    "\n",
    "\n"
   ]
  },
  {
   "cell_type": "code",
   "execution_count": 3,
   "metadata": {},
   "outputs": [
    {
     "name": "stdout",
     "output_type": "stream",
     "text": [
      "torch.Size([5000, 5000])\n"
     ]
    }
   ],
   "source": [
    "n = 5000\n",
    "device = torch.device('cuda' if torch.cuda.is_available() else 'cpu')\n",
    "\n",
    "torch.manual_seed(42)\n",
    "encodings = torch.rand(n,n)\n",
    "print(encodings.shape)"
   ]
  },
  {
   "cell_type": "code",
   "execution_count": 4,
   "metadata": {},
   "outputs": [
    {
     "data": {
      "text/plain": [
       "tensor([[ 0.4454,  0.2774, -0.3229,  ..., -0.2133, -0.1296, -0.8072],\n",
       "        [ 0.4455,  0.2774, -0.3231,  ..., -0.2133, -0.1296, -0.8069],\n",
       "        [ 0.4454,  0.2775, -0.3231,  ..., -0.2134, -0.1297, -0.8070],\n",
       "        ...,\n",
       "        [ 0.4454,  0.2776, -0.3229,  ..., -0.2134, -0.1296, -0.8069],\n",
       "        [ 0.4456,  0.2774, -0.3230,  ..., -0.2135, -0.1297, -0.8072],\n",
       "        [ 0.4455,  0.2773, -0.3231,  ..., -0.2134, -0.1297, -0.8070]],\n",
       "       grad_fn=<MmBackward0>)"
      ]
     },
     "execution_count": 4,
     "metadata": {},
     "output_type": "execute_result"
    }
   ],
   "source": [
    "self_attention = SelfAttention(dm=n)\n",
    "self_attention(encodings)"
   ]
  }
 ],
 "metadata": {
  "kernelspec": {
   "display_name": ".venv",
   "language": "python",
   "name": "python3"
  },
  "language_info": {
   "codemirror_mode": {
    "name": "ipython",
    "version": 3
   },
   "file_extension": ".py",
   "mimetype": "text/x-python",
   "name": "python",
   "nbconvert_exporter": "python",
   "pygments_lexer": "ipython3",
   "version": "3.12.3"
  }
 },
 "nbformat": 4,
 "nbformat_minor": 2
}
