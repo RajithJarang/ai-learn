{
 "cells": [
  {
   "cell_type": "code",
   "execution_count": null,
   "metadata": {},
   "outputs": [
    {
     "ename": "ImportError",
     "evalue": "cannot import name 'SimpleDirectoryReader' from 'llama_index' (unknown location)",
     "output_type": "error",
     "traceback": [
      "\u001b[31m---------------------------------------------------------------------------\u001b[39m",
      "\u001b[31mImportError\u001b[39m                               Traceback (most recent call last)",
      "\u001b[36mCell\u001b[39m\u001b[36m \u001b[39m\u001b[32mIn[4]\u001b[39m\u001b[32m, line 3\u001b[39m\n\u001b[32m      1\u001b[39m \u001b[38;5;28;01mimport\u001b[39;00m\u001b[38;5;250m \u001b[39m\u001b[34;01mos\u001b[39;00m\n\u001b[32m      2\u001b[39m \u001b[38;5;28;01mfrom\u001b[39;00m\u001b[38;5;250m \u001b[39m\u001b[34;01mdotenv\u001b[39;00m\u001b[38;5;250m \u001b[39m\u001b[38;5;28;01mimport\u001b[39;00m load_dotenv\n\u001b[32m----> \u001b[39m\u001b[32m3\u001b[39m \u001b[38;5;28;01mfrom\u001b[39;00m\u001b[38;5;250m \u001b[39m\u001b[34;01mllama_index\u001b[39;00m\u001b[38;5;250m \u001b[39m\u001b[38;5;28;01mimport\u001b[39;00m (\n\u001b[32m      4\u001b[39m     SimpleDirectoryReader,\n\u001b[32m      5\u001b[39m     VectorStoreIndex,\n\u001b[32m      6\u001b[39m     ServiceContext,\n\u001b[32m      7\u001b[39m     OpenAIEmbedding,\n\u001b[32m      8\u001b[39m     OpenAI,\n\u001b[32m      9\u001b[39m     ReActAgent,\n\u001b[32m     10\u001b[39m     FunctionTool,\n\u001b[32m     11\u001b[39m     ToolMetadata,\n\u001b[32m     12\u001b[39m     QueryEngineTool,\n\u001b[32m     13\u001b[39m )\n\u001b[32m     15\u001b[39m \u001b[38;5;66;03m# Load environment variables\u001b[39;00m\n\u001b[32m     16\u001b[39m load_dotenv()\n",
      "\u001b[31mImportError\u001b[39m: cannot import name 'SimpleDirectoryReader' from 'llama_index' (unknown location)"
     ]
    }
   ],
   "source": [
    "import os\n",
    "from dotenv import load_dotenv\n",
    "from llama_index import (\n",
    "    SimpleDirectoryReader,\n",
    "    VectorStoreIndex,\n",
    "    ServiceContext,\n",
    "    OpenAIEmbedding,\n",
    "    OpenAI,\n",
    "    ReActAgent,\n",
    "    FunctionTool,\n",
    "    ToolMetadata,\n",
    "    QueryEngineTool,\n",
    ")\n",
    "\n",
    "# Load environment variables\n",
    "load_dotenv()\n",
    "openai_api_key = os.getenv(\"OPENAI_API_KEY\")\n",
    "\n",
    "# Step 1: Load your wiki documents from a local folder\n",
    "documents = SimpleDirectoryReader(\"./wiki_data\").load_data()\n",
    "\n",
    "# Step 2: Set up LLM and embedding model\n",
    "llm = OpenAI(model=\"gpt-4-turbo\", api_key=openai_api_key)\n",
    "embed_model = OpenAIEmbedding(model=\"text-embedding-ada-002\", api_key=openai_api_key)\n",
    "\n",
    "service_context = ServiceContext.from_defaults(llm=llm, embed_model=embed_model)\n",
    "\n",
    "# Step 3: Build the vector index\n",
    "index = VectorStoreIndex.from_documents(documents, service_context=service_context)\n",
    "\n",
    "# Step 4: Create a query engine tool\n",
    "query_engine_tool = QueryEngineTool.from_defaults(\n",
    "    query_engine=index.as_query_engine(similarity_top_k=5),\n",
    "    metadata=ToolMetadata(name=\"wiki_query_tool\", description=\"Query engine for wiki documents\"),\n",
    ")\n",
    "\n",
    "# Step 5: Initialize the ReAct agent with the query engine tool\n",
    "agent = ReActAgent.from_tools([query_engine_tool], llm=llm, verbose=True)\n",
    "\n",
    "# Step 6: Interact with the AI Wiki Agent\n",
    "while True:\n",
    "    query = input(\"Ask the Wiki Agent: \")\n",
    "    if query.lower() in [\"exit\", \"quit\"]:\n",
    "        break\n",
    "    response = agent.chat(query)\n",
    "    print(\"\\nAnswer:\", response)\n"
   ]
  }
 ],
 "metadata": {
  "kernelspec": {
   "display_name": ".venv",
   "language": "python",
   "name": "python3"
  },
  "language_info": {
   "codemirror_mode": {
    "name": "ipython",
    "version": 3
   },
   "file_extension": ".py",
   "mimetype": "text/x-python",
   "name": "python",
   "nbconvert_exporter": "python",
   "pygments_lexer": "ipython3",
   "version": "3.12.3"
  }
 },
 "nbformat": 4,
 "nbformat_minor": 2
}
