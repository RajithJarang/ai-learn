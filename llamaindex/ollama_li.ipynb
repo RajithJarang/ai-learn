{
 "cells": [
  {
   "cell_type": "code",
   "execution_count": 2,
   "metadata": {},
   "outputs": [],
   "source": [
    "from llama_index.llms.ollama import Ollama"
   ]
  },
  {
   "cell_type": "code",
   "execution_count": 6,
   "metadata": {},
   "outputs": [],
   "source": [
    "llm = Ollama(model=\"llama3.2:1b\", request_timeout=120.0,json_mode=True)"
   ]
  },
  {
   "cell_type": "code",
   "execution_count": 10,
   "metadata": {},
   "outputs": [
    {
     "name": "stdout",
     "output_type": "stream",
     "text": [
      "{}\n",
      " \n",
      "  \n",
      "\n",
      "  \n",
      "\n",
      "  \n",
      "\n",
      "  \n",
      "\n",
      "  \n",
      "\n",
      " \n",
      "\n",
      " \n"
     ]
    }
   ],
   "source": [
    "resp = llm.complete(\"Who is Paul Graham?\")\n",
    "print(resp)"
   ]
  },
  {
   "cell_type": "code",
   "execution_count": 18,
   "metadata": {},
   "outputs": [],
   "source": [
    "from llama_index.core.bridge.pydantic import BaseModel\n",
    "\n",
    "\n",
    "class Song(BaseModel):\n",
    "    \"\"\"A song with name and artist.\"\"\"\n",
    "\n",
    "    name: str\n",
    "    artist: str\n",
    "    "
   ]
  },
  {
   "cell_type": "code",
   "execution_count": 19,
   "metadata": {},
   "outputs": [],
   "source": [
    "sllm = llm.as_structured_llm(Song)"
   ]
  },
  {
   "cell_type": "code",
   "execution_count": 20,
   "metadata": {},
   "outputs": [
    {
     "name": "stdout",
     "output_type": "stream",
     "text": [
      "{\"name\":\"kiss\",\"artist\":\"prince\"}\n"
     ]
    }
   ],
   "source": [
    "from llama_index.core.llms import ChatMessage\n",
    "\n",
    "response = sllm.chat([ChatMessage(role=\"user\", content=\"Name a random song!\")])\n",
    "print(response.message.content)"
   ]
  },
  {
   "cell_type": "code",
   "execution_count": 21,
   "metadata": {},
   "outputs": [
    {
     "name": "stdout",
     "output_type": "stream",
     "text": [
      "{\"name\":null,\"artist\":null}\n",
      "{\"name\":null,\"artist\":null}\n",
      "{\"name\":null,\"artist\":null}\n",
      "{\"name\":\"\",\"artist\":null}\n",
      "{\"name\":\"T\",\"artist\":null}\n",
      "{\"name\":\"Tears\",\"artist\":null}\n",
      "{\"name\":\"Tears in\",\"artist\":null}\n",
      "{\"name\":\"Tears in Heaven\",\"artist\":null}\n",
      "{\"name\":\"Tears in Heaven\",\"artist\":null}\n",
      "{\"name\":\"Tears in Heaven\",\"artist\":null}\n",
      "{\"name\":\"Tears in Heaven\",\"artist\":null}\n",
      "{\"name\":\"Tears in Heaven\",\"artist\":null}\n",
      "{\"name\":\"Tears in Heaven\",\"artist\":\"\"}\n",
      "{\"name\":\"Tears in Heaven\",\"artist\":\"Eric\"}\n",
      "{\"name\":\"Tears in Heaven\",\"artist\":\"Eric Cl\"}\n",
      "{\"name\":\"Tears in Heaven\",\"artist\":\"Eric Clap\"}\n",
      "{\"name\":\"Tears in Heaven\",\"artist\":\"Eric Clapton\"}\n",
      "{\"name\":\"Tears in Heaven\",\"artist\":\"Eric Clapton and\"}\n",
      "{\"name\":\"Tears in Heaven\",\"artist\":\"Eric Clapton and P\"}\n",
      "{\"name\":\"Tears in Heaven\",\"artist\":\"Eric Clapton and P.D\"}\n",
      "{\"name\":\"Tears in Heaven\",\"artist\":\"Eric Clapton and P.D.\"}\n",
      "{\"name\":\"Tears in Heaven\",\"artist\":\"Eric Clapton and P.D.q\"}\n",
      "{\"name\":\"Tears in Heaven\",\"artist\":\"Eric Clapton and P.D.q (\"}\n",
      "{\"name\":\"Tears in Heaven\",\"artist\":\"Eric Clapton and P.D.q (The\"}\n",
      "{\"name\":\"Tears in Heaven\",\"artist\":\"Eric Clapton and P.D.q (The Children\"}\n",
      "{\"name\":\"Tears in Heaven\",\"artist\":\"Eric Clapton and P.D.q (The Children's\"}\n",
      "{\"name\":\"Tears in Heaven\",\"artist\":\"Eric Clapton and P.D.q (The Children's Television\"}\n",
      "{\"name\":\"Tears in Heaven\",\"artist\":\"Eric Clapton and P.D.q (The Children's Television Workshop\"}\n",
      "{\"name\":\"Tears in Heaven\",\"artist\":\"Eric Clapton and P.D.q (The Children's Television Workshop)\"}\n",
      "{\"name\":\"Tears in Heaven\",\"artist\":\"Eric Clapton and P.D.q (The Children's Television Workshop)\"}\n",
      "{\"name\":\"Tears in Heaven\",\"artist\":\"Eric Clapton and P.D.q (The Children's Television Workshop)\"}\n"
     ]
    }
   ],
   "source": [
    "response_gen = sllm.stream_chat(\n",
    "    [ChatMessage(role=\"user\", content=\"Name a random song!\")]\n",
    ")\n",
    "for r in response_gen:\n",
    "    print(r.message.content)"
   ]
  }
 ],
 "metadata": {
  "kernelspec": {
   "display_name": ".venv",
   "language": "python",
   "name": "python3"
  },
  "language_info": {
   "codemirror_mode": {
    "name": "ipython",
    "version": 3
   },
   "file_extension": ".py",
   "mimetype": "text/x-python",
   "name": "python",
   "nbconvert_exporter": "python",
   "pygments_lexer": "ipython3",
   "version": "3.12.3"
  }
 },
 "nbformat": 4,
 "nbformat_minor": 2
}
