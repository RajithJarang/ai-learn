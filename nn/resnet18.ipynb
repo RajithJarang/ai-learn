{
 "cells": [
  {
   "cell_type": "code",
   "execution_count": 1,
   "metadata": {},
   "outputs": [],
   "source": [
    "import torch\n",
    "from torchvision.models import resnet18, ResNet18_Weights\n",
    "import torch.nn as nn"
   ]
  },
  {
   "cell_type": "code",
   "execution_count": 2,
   "metadata": {},
   "outputs": [],
   "source": [
    "model = resnet18(weights=ResNet18_Weights.DEFAULT)\n",
    "criterion = nn.CrossEntropyLoss()"
   ]
  },
  {
   "cell_type": "code",
   "execution_count": 3,
   "metadata": {},
   "outputs": [
    {
     "data": {
      "text/plain": [
       "tensor([456,  81, 182,  ..., 401, 354, 619])"
      ]
     },
     "execution_count": 3,
     "metadata": {},
     "output_type": "execute_result"
    }
   ],
   "source": [
    "data = torch.rand(16000, 3, 224, 224)   # batch of 16\n",
    "label = torch.randint(0, 1000, (16000,))\n",
    "label"
   ]
  },
  {
   "cell_type": "code",
   "execution_count": 4,
   "metadata": {},
   "outputs": [
    {
     "data": {
      "text/plain": [
       "SGD (\n",
       "Parameter Group 0\n",
       "    dampening: 0\n",
       "    differentiable: False\n",
       "    foreach: None\n",
       "    fused: None\n",
       "    lr: 0.0001\n",
       "    maximize: False\n",
       "    momentum: 0.9\n",
       "    nesterov: False\n",
       "    weight_decay: 0.0001\n",
       ")"
      ]
     },
     "execution_count": 4,
     "metadata": {},
     "output_type": "execute_result"
    }
   ],
   "source": [
    "optim = torch.optim.SGD(model.parameters(), lr=1e-4, momentum=0.9, weight_decay=1e-4)\n",
    "optim"
   ]
  },
  {
   "cell_type": "code",
   "execution_count": null,
   "metadata": {},
   "outputs": [
    {
     "name": "stdout",
     "output_type": "stream",
     "text": [
      "0 tensor(8.1530, grad_fn=<NllLossBackward0>)\n",
      "1 tensor(8.0947, grad_fn=<NllLossBackward0>)\n",
      "2 tensor(8.3335, grad_fn=<NllLossBackward0>)\n",
      "3 tensor(8.3500, grad_fn=<NllLossBackward0>)\n",
      "4 tensor(8.3566, grad_fn=<NllLossBackward0>)\n",
      "5 tensor(8.3139, grad_fn=<NllLossBackward0>)\n",
      "6 tensor(8.3025, grad_fn=<NllLossBackward0>)\n",
      "7 tensor(8.2954, grad_fn=<NllLossBackward0>)\n",
      "8 tensor(8.1540, grad_fn=<NllLossBackward0>)\n",
      "9 tensor(8.5155, grad_fn=<NllLossBackward0>)\n",
      "10 tensor(8.1318, grad_fn=<NllLossBackward0>)\n",
      "11 tensor(8.2527, grad_fn=<NllLossBackward0>)\n",
      "12 tensor(8.3825, grad_fn=<NllLossBackward0>)\n",
      "13 tensor(8.0596, grad_fn=<NllLossBackward0>)\n",
      "14 tensor(8.2837, grad_fn=<NllLossBackward0>)\n",
      "15 tensor(8.4297, grad_fn=<NllLossBackward0>)\n",
      "16 tensor(8.3174, grad_fn=<NllLossBackward0>)\n",
      "17 tensor(8.3836, grad_fn=<NllLossBackward0>)\n",
      "18 tensor(8.2350, grad_fn=<NllLossBackward0>)\n",
      "19 tensor(8.2517, grad_fn=<NllLossBackward0>)\n",
      "20 tensor(8.1465, grad_fn=<NllLossBackward0>)\n",
      "21 tensor(8.0121, grad_fn=<NllLossBackward0>)\n",
      "22 tensor(8.1959, grad_fn=<NllLossBackward0>)\n",
      "23 tensor(8.1889, grad_fn=<NllLossBackward0>)\n",
      "24 tensor(8.2311, grad_fn=<NllLossBackward0>)\n",
      "25 tensor(8.3623, grad_fn=<NllLossBackward0>)\n",
      "26 tensor(7.9827, grad_fn=<NllLossBackward0>)\n",
      "27 tensor(8.2585, grad_fn=<NllLossBackward0>)\n",
      "28 tensor(8.3490, grad_fn=<NllLossBackward0>)\n",
      "29 tensor(8.2602, grad_fn=<NllLossBackward0>)\n",
      "30 tensor(8.2651, grad_fn=<NllLossBackward0>)\n",
      "31 tensor(8.2343, grad_fn=<NllLossBackward0>)\n",
      "32 tensor(8.1708, grad_fn=<NllLossBackward0>)\n",
      "33 tensor(8.1654, grad_fn=<NllLossBackward0>)\n",
      "34 tensor(8.1769, grad_fn=<NllLossBackward0>)\n",
      "35 tensor(8.2515, grad_fn=<NllLossBackward0>)\n",
      "36 tensor(7.9919, grad_fn=<NllLossBackward0>)\n",
      "37 tensor(8.2547, grad_fn=<NllLossBackward0>)\n",
      "38 tensor(8.1946, grad_fn=<NllLossBackward0>)\n",
      "39 tensor(8.1651, grad_fn=<NllLossBackward0>)\n",
      "40 tensor(8.3358, grad_fn=<NllLossBackward0>)\n",
      "41 tensor(8.1003, grad_fn=<NllLossBackward0>)\n",
      "42 tensor(8.2602, grad_fn=<NllLossBackward0>)\n",
      "43 tensor(8.1540, grad_fn=<NllLossBackward0>)\n",
      "44 tensor(8.2250, grad_fn=<NllLossBackward0>)\n",
      "45 tensor(8.1083, grad_fn=<NllLossBackward0>)\n",
      "46 tensor(8.2291, grad_fn=<NllLossBackward0>)\n",
      "47 tensor(8.2416, grad_fn=<NllLossBackward0>)\n",
      "48 tensor(8.2841, grad_fn=<NllLossBackward0>)\n",
      "49 tensor(8.3314, grad_fn=<NllLossBackward0>)\n",
      "50 tensor(8.4296, grad_fn=<NllLossBackward0>)\n",
      "51 tensor(8.0015, grad_fn=<NllLossBackward0>)\n",
      "52 tensor(8.1722, grad_fn=<NllLossBackward0>)\n",
      "53 tensor(8.1718, grad_fn=<NllLossBackward0>)\n",
      "54 tensor(8.1180, grad_fn=<NllLossBackward0>)\n",
      "55 tensor(8.0406, grad_fn=<NllLossBackward0>)\n",
      "56 tensor(7.9395, grad_fn=<NllLossBackward0>)\n",
      "57 tensor(8.0208, grad_fn=<NllLossBackward0>)\n",
      "58 tensor(8.1723, grad_fn=<NllLossBackward0>)\n",
      "59 tensor(8.1586, grad_fn=<NllLossBackward0>)\n",
      "60 tensor(8.0812, grad_fn=<NllLossBackward0>)\n",
      "61 tensor(8.2249, grad_fn=<NllLossBackward0>)\n",
      "62 tensor(8.3043, grad_fn=<NllLossBackward0>)\n",
      "63 tensor(7.8924, grad_fn=<NllLossBackward0>)\n",
      "64 tensor(8.1134, grad_fn=<NllLossBackward0>)\n",
      "65 tensor(8.1158, grad_fn=<NllLossBackward0>)\n",
      "66 tensor(8.1753, grad_fn=<NllLossBackward0>)\n",
      "67 tensor(8.1585, grad_fn=<NllLossBackward0>)\n",
      "68 tensor(8.1650, grad_fn=<NllLossBackward0>)\n",
      "69 tensor(7.9925, grad_fn=<NllLossBackward0>)\n",
      "70 tensor(8.0693, grad_fn=<NllLossBackward0>)\n",
      "71 tensor(8.0852, grad_fn=<NllLossBackward0>)\n",
      "72 tensor(8.1509, grad_fn=<NllLossBackward0>)\n",
      "73 tensor(8.0489, grad_fn=<NllLossBackward0>)\n",
      "74 tensor(8.2627, grad_fn=<NllLossBackward0>)\n",
      "75 tensor(8.2239, grad_fn=<NllLossBackward0>)\n",
      "76 tensor(8.2173, grad_fn=<NllLossBackward0>)\n",
      "77 tensor(8.1572, grad_fn=<NllLossBackward0>)\n",
      "78 tensor(7.9353, grad_fn=<NllLossBackward0>)\n",
      "79 tensor(8.1027, grad_fn=<NllLossBackward0>)\n",
      "80 tensor(8.2383, grad_fn=<NllLossBackward0>)\n",
      "81 tensor(8.0222, grad_fn=<NllLossBackward0>)\n",
      "82 tensor(7.9115, grad_fn=<NllLossBackward0>)\n",
      "83 tensor(7.8930, grad_fn=<NllLossBackward0>)\n",
      "84 tensor(8.1082, grad_fn=<NllLossBackward0>)\n",
      "85 tensor(8.0787, grad_fn=<NllLossBackward0>)\n",
      "86 tensor(7.9267, grad_fn=<NllLossBackward0>)\n"
     ]
    }
   ],
   "source": [
    "epochs = 10\n",
    "data_chunks = torch.chunk(data,100)\n",
    "label_chunks = torch.chunk(label,100)\n",
    "i=0\n",
    "for epoch in range(epochs):\n",
    "    for data_batch, label_batch in zip(data_chunks, label_chunks):\n",
    "        pred = model(data_batch)\n",
    "        loss = criterion(pred, label_batch)\n",
    "        print(i,loss)\n",
    "        i+=1\n",
    "        optim.zero_grad()\n",
    "        loss.backward()\n",
    "        optim.step()\n",
    "\n"
   ]
  }
 ],
 "metadata": {
  "kernelspec": {
   "display_name": ".venv",
   "language": "python",
   "name": "python3"
  },
  "language_info": {
   "codemirror_mode": {
    "name": "ipython",
    "version": 3
   },
   "file_extension": ".py",
   "mimetype": "text/x-python",
   "name": "python",
   "nbconvert_exporter": "python",
   "pygments_lexer": "ipython3",
   "version": "3.12.3"
  }
 },
 "nbformat": 4,
 "nbformat_minor": 2
}
