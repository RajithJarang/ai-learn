{
 "cells": [
  {
   "cell_type": "code",
   "execution_count": 1,
   "metadata": {},
   "outputs": [],
   "source": [
    "with open(\"input.txt\", 'r', encoding='utf-8') as f:\n",
    "    text = f.read()"
   ]
  },
  {
   "cell_type": "code",
   "execution_count": 2,
   "metadata": {},
   "outputs": [
    {
     "name": "stdout",
     "output_type": "stream",
     "text": [
      "\n",
      " !$&',-.3:;?ABCDEFGHIJKLMNOPQRSTUVWXYZabcdefghijklmnopqrstuvwxyz\n",
      "65\n"
     ]
    }
   ],
   "source": [
    "chars = sorted(list(set(text)))\n",
    "vocab_size = len(chars)\n",
    "print(''.join(chars))\n",
    "print(vocab_size)"
   ]
  },
  {
   "cell_type": "code",
   "execution_count": 3,
   "metadata": {},
   "outputs": [
    {
     "name": "stdout",
     "output_type": "stream",
     "text": [
      "[35, 46, 39, 58, 57, 1, 59, 54, 12]\n",
      "Whats yo?\n"
     ]
    }
   ],
   "source": [
    "stoi = { ch: i for i,ch in enumerate(chars)}\n",
    "itos = {i: ch for i, ch in enumerate(chars)}\n",
    "\n",
    "encode = lambda s : [stoi[c] for c in s]\n",
    "decode = lambda i: ''.join([itos[c] for c in i])\n",
    "\n",
    "print(encode(\"Whats up?\"))\n",
    "print(decode(encode(\"Whats yo?\")))"
   ]
  },
  {
   "cell_type": "code",
   "execution_count": 4,
   "metadata": {},
   "outputs": [],
   "source": [
    "# import tiktoken\n",
    "# enc = tiktoken.get_encoding(\"o200k_base\")"
   ]
  },
  {
   "cell_type": "code",
   "execution_count": 5,
   "metadata": {},
   "outputs": [
    {
     "name": "stdout",
     "output_type": "stream",
     "text": [
      "torch.Size([1115394])\n",
      "tensor([18, 47, 56, 57, 58,  1, 15, 47, 58, 47, 64, 43, 52, 10,  0, 14, 43, 44,\n",
      "        53, 56, 43,  1, 61, 43,  1, 54, 56, 53, 41, 43, 43, 42,  1, 39, 52, 63,\n",
      "         1, 44, 59, 56, 58, 46, 43, 56,  6,  1, 46, 43, 39, 56,  1, 51, 43,  1,\n",
      "        57, 54, 43, 39, 49,  8,  0,  0, 13, 50, 50, 10,  0, 31, 54, 43, 39, 49,\n",
      "         6,  1, 57, 54, 43, 39, 49,  8,  0,  0, 18, 47, 56, 57, 58,  1, 15, 47,\n",
      "        58, 47, 64, 43, 52, 10,  0, 37, 53, 59])\n"
     ]
    }
   ],
   "source": [
    "import torch\n",
    "\n",
    "data = torch.tensor(encode(text), dtype=torch.long)\n",
    "print(data.shape)\n",
    "print(data[:100])"
   ]
  },
  {
   "cell_type": "code",
   "execution_count": 6,
   "metadata": {},
   "outputs": [
    {
     "name": "stdout",
     "output_type": "stream",
     "text": [
      "torch.Size([1003854]) torch.Size([111540])\n"
     ]
    }
   ],
   "source": [
    "n = int(0.9*len(data))\n",
    "train_data = data[:n]\n",
    "val_data= data[n:]\n",
    "\n",
    "print(train_data.shape, val_data.shape)"
   ]
  },
  {
   "cell_type": "code",
   "execution_count": null,
   "metadata": {},
   "outputs": [
    {
     "name": "stdout",
     "output_type": "stream",
     "text": [
      "tensor([18]) tensor(47)\n",
      "tensor([18, 47]) tensor(56)\n",
      "tensor([18, 47, 56]) tensor(57)\n",
      "tensor([18, 47, 56, 57]) tensor(58)\n",
      "tensor([18, 47, 56, 57, 58]) tensor(1)\n",
      "tensor([18, 47, 56, 57, 58,  1]) tensor(15)\n",
      "tensor([18, 47, 56, 57, 58,  1, 15]) tensor(47)\n",
      "tensor([18, 47, 56, 57, 58,  1, 15, 47]) tensor(58)\n"
     ]
    }
   ],
   "source": [
    "block_size = 8\n",
    "x = train_data[:block_size]\n",
    "y = train_data[1:block_size+1]\n",
    "\n",
    "for i in range(block_size):\n",
    "    context = x[:i+1]\n",
    "    target = y[i]\n",
    "    print(context, target)\n",
    "\n"
   ]
  },
  {
   "cell_type": "code",
   "execution_count": 9,
   "metadata": {},
   "outputs": [
    {
     "name": "stdout",
     "output_type": "stream",
     "text": [
      "torch.Size([4, 8]) tensor([[24, 43, 58,  5, 57,  1, 46, 43],\n",
      "        [44, 53, 56,  1, 58, 46, 39, 58],\n",
      "        [52, 58,  1, 58, 46, 39, 58,  1],\n",
      "        [25, 17, 27, 10,  0, 21,  1, 54]])\n",
      "torch.Size([4, 8]) tensor([[43, 58,  5, 57,  1, 46, 43, 39],\n",
      "        [53, 56,  1, 58, 46, 39, 58,  1],\n",
      "        [58,  1, 58, 46, 39, 58,  1, 46],\n",
      "        [17, 27, 10,  0, 21,  1, 54, 39]])\n",
      "Input: tensor([24]) Output: 43\n",
      "Input: tensor([24, 43]) Output: 58\n",
      "Input: tensor([24, 43, 58]) Output: 5\n",
      "Input: tensor([24, 43, 58,  5]) Output: 57\n",
      "Input: tensor([24, 43, 58,  5, 57]) Output: 1\n",
      "Input: tensor([24, 43, 58,  5, 57,  1]) Output: 46\n",
      "Input: tensor([24, 43, 58,  5, 57,  1, 46]) Output: 43\n",
      "Input: tensor([24, 43, 58,  5, 57,  1, 46, 43]) Output: 39\n",
      "Input: tensor([44]) Output: 53\n",
      "Input: tensor([44, 53]) Output: 56\n",
      "Input: tensor([44, 53, 56]) Output: 1\n",
      "Input: tensor([44, 53, 56,  1]) Output: 58\n",
      "Input: tensor([44, 53, 56,  1, 58]) Output: 46\n",
      "Input: tensor([44, 53, 56,  1, 58, 46]) Output: 39\n",
      "Input: tensor([44, 53, 56,  1, 58, 46, 39]) Output: 58\n",
      "Input: tensor([44, 53, 56,  1, 58, 46, 39, 58]) Output: 1\n",
      "Input: tensor([52]) Output: 58\n",
      "Input: tensor([52, 58]) Output: 1\n",
      "Input: tensor([52, 58,  1]) Output: 58\n",
      "Input: tensor([52, 58,  1, 58]) Output: 46\n",
      "Input: tensor([52, 58,  1, 58, 46]) Output: 39\n",
      "Input: tensor([52, 58,  1, 58, 46, 39]) Output: 58\n",
      "Input: tensor([52, 58,  1, 58, 46, 39, 58]) Output: 1\n",
      "Input: tensor([52, 58,  1, 58, 46, 39, 58,  1]) Output: 46\n",
      "Input: tensor([25]) Output: 17\n",
      "Input: tensor([25, 17]) Output: 27\n",
      "Input: tensor([25, 17, 27]) Output: 10\n",
      "Input: tensor([25, 17, 27, 10]) Output: 0\n",
      "Input: tensor([25, 17, 27, 10,  0]) Output: 21\n",
      "Input: tensor([25, 17, 27, 10,  0, 21]) Output: 1\n",
      "Input: tensor([25, 17, 27, 10,  0, 21,  1]) Output: 54\n",
      "Input: tensor([25, 17, 27, 10,  0, 21,  1, 54]) Output: 39\n"
     ]
    }
   ],
   "source": [
    "torch.manual_seed(1337)\n",
    "\n",
    "batch_size = 4\n",
    "block_size = 8\n",
    "\n",
    "def get_batch(split):\n",
    "    \n",
    "    data = train_data if split=='train' else val_data\n",
    "    \n",
    "    ix = torch.randint(len(data)-block_size, (batch_size,))\n",
    "    x = torch.stack([data[i:i+block_size] for i in ix])\n",
    "    y = torch.stack([data[i+1:i+block_size+1] for i in ix])\n",
    "    return x,y\n",
    "\n",
    "xb,yb = get_batch('train')\n",
    "print(xb.shape,xb)\n",
    "print(yb.shape, yb)\n",
    "\n",
    "for i in range(batch_size):\n",
    "    for j in range(block_size):\n",
    "        _xb = xb[i,:j+1]\n",
    "        _yb = yb[i,j]\n",
    "        print(f\"Input: {_xb} Output: {_yb}\")\n",
    "        "
   ]
  },
  {
   "cell_type": "code",
   "execution_count": 21,
   "metadata": {},
   "outputs": [
    {
     "name": "stdout",
     "output_type": "stream",
     "text": [
      "tensor(4.8786, grad_fn=<NllLossBackward0>)\n"
     ]
    }
   ],
   "source": [
    "import torch \n",
    "import torch.nn as nn\n",
    "from torch.nn import functional as F\n",
    "\n",
    "torch.manual_seed(1337)\n",
    "\n",
    "class BigramLanguageModel(nn.Module):\n",
    "    \n",
    "    def __init__(self, vocab_size):\n",
    "        super().__init__()\n",
    "        self.token_embedding_table = nn.Embedding(vocab_size,vocab_size)\n",
    "\n",
    "    \n",
    "    def forward(self, idx, targets):\n",
    "        logits = self.token_embedding_table(idx)\n",
    "        \n",
    "        B, T, C = logits.shape\n",
    "        \n",
    "        logits = logits.view(B*T, C)\n",
    "        targets = targets.view(B*T)\n",
    "        loss = F.cross_entropy(logits, target=targets)\n",
    "        return logits, loss\n",
    "\n",
    "model = BigramLanguageModel(vocab_size=vocab_size)\n",
    "logits, loss = model(xb,yb)\n",
    "print(loss)"
   ]
  }
 ],
 "metadata": {
  "kernelspec": {
   "display_name": ".venv",
   "language": "python",
   "name": "python3"
  },
  "language_info": {
   "codemirror_mode": {
    "name": "ipython",
    "version": 3
   },
   "file_extension": ".py",
   "mimetype": "text/x-python",
   "name": "python",
   "nbconvert_exporter": "python",
   "pygments_lexer": "ipython3",
   "version": "3.12.3"
  }
 },
 "nbformat": 4,
 "nbformat_minor": 2
}
